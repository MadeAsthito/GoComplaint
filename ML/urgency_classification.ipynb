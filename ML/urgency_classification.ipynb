{
  "nbformat": 4,
  "nbformat_minor": 0,
  "metadata": {
    "colab": {
      "provenance": []
    },
    "kernelspec": {
      "name": "python3",
      "display_name": "Python 3"
    },
    "language_info": {
      "name": "python"
    }
  },
  "cells": [
    {
      "cell_type": "code",
      "execution_count": 17,
      "metadata": {
        "id": "oK-XZbj7JYHA",
        "colab": {
          "base_uri": "https://localhost:8080/"
        },
        "outputId": "0b3c05b1-4716-45ce-dc63-f59b05af9d23"
      },
      "outputs": [
        {
          "output_type": "stream",
          "name": "stdout",
          "text": [
            "Epoch 1/10\n",
            "12/12 [==============================] - 3s 83ms/step - loss: 0.6924 - accuracy: 0.5194 - val_loss: 0.6897 - val_accuracy: 0.5667\n",
            "Epoch 2/10\n",
            "12/12 [==============================] - 0s 35ms/step - loss: 0.6885 - accuracy: 0.5750 - val_loss: 0.6853 - val_accuracy: 0.5667\n",
            "Epoch 3/10\n",
            "12/12 [==============================] - 0s 36ms/step - loss: 0.6854 - accuracy: 0.5889 - val_loss: 0.6795 - val_accuracy: 0.5889\n",
            "Epoch 4/10\n",
            "12/12 [==============================] - 0s 37ms/step - loss: 0.6816 - accuracy: 0.5528 - val_loss: 0.6653 - val_accuracy: 0.6222\n",
            "Epoch 5/10\n",
            "12/12 [==============================] - 0s 38ms/step - loss: 0.6496 - accuracy: 0.6250 - val_loss: 0.7992 - val_accuracy: 0.5889\n",
            "Epoch 6/10\n",
            "12/12 [==============================] - 0s 36ms/step - loss: 0.6356 - accuracy: 0.6778 - val_loss: 0.6664 - val_accuracy: 0.5889\n",
            "Epoch 7/10\n",
            "12/12 [==============================] - 0s 38ms/step - loss: 0.6204 - accuracy: 0.7028 - val_loss: 0.6081 - val_accuracy: 0.6778\n",
            "Epoch 8/10\n",
            "12/12 [==============================] - 0s 35ms/step - loss: 0.5187 - accuracy: 0.7500 - val_loss: 0.6433 - val_accuracy: 0.7000\n",
            "Epoch 9/10\n",
            "12/12 [==============================] - 0s 38ms/step - loss: 0.4597 - accuracy: 0.7972 - val_loss: 0.5379 - val_accuracy: 0.7333\n",
            "Epoch 10/10\n",
            "12/12 [==============================] - 0s 38ms/step - loss: 0.3827 - accuracy: 0.8361 - val_loss: 0.5516 - val_accuracy: 0.7778\n"
          ]
        },
        {
          "output_type": "execute_result",
          "data": {
            "text/plain": [
              "<keras.src.callbacks.History at 0x7d9dff883250>"
            ]
          },
          "metadata": {},
          "execution_count": 17
        }
      ],
      "source": [
        "#Import library\n",
        "import pandas as pd\n",
        "import numpy as np\n",
        "import tensorflow as tf\n",
        "import random\n",
        "from keras.preprocessing.text import Tokenizer\n",
        "from keras.preprocessing.sequence import pad_sequences\n",
        "from sklearn.model_selection import train_test_split\n",
        "from google.colab import files\n",
        "\n",
        "\n",
        "#Load dataset\n",
        "data = pd.read_csv('/content/Dataset Pengaduan Masyarakat.csv')\n",
        "data = data[['complaint', 'urgency']]\n",
        "\n",
        "#Preprocessing: Convert label\n",
        "y = [ 0 if i=='Not Urgent' else 1 for i in data['urgency'] ]\n",
        "x = data['complaint']\n",
        "\n",
        "#Split dataset\n",
        "x_train, x_test, y_train, y_test = train_test_split(x, y, test_size=0.20)\n",
        "\n",
        "vocab_size = 500\n",
        "embedding_dim = 64\n",
        "max_length = 50\n",
        "trunc_type='post'\n",
        "padding_type='post'\n",
        "oov_tok = \"<OOV>\"\n",
        "\n",
        "#Tokenization\n",
        "tokenizer = Tokenizer(num_words=vocab_size, oov_token=oov_tok)\n",
        "tokenizer.fit_on_texts(x_train)\n",
        "wordindex = tokenizer.word_index\n",
        "\n",
        "train_seq = tokenizer.texts_to_sequences(x_train)\n",
        "test_seq = tokenizer.texts_to_sequences(x_test)\n",
        "\n",
        "train_padded = pad_sequences(train_seq, padding=padding_type, truncating=trunc_type, maxlen=max_length)\n",
        "test_padded = pad_sequences(test_seq, padding=padding_type, truncating=trunc_type, maxlen=max_length)\n",
        "\n",
        "train_padded = np.array(train_padded)\n",
        "train_label = np.array(y_train)\n",
        "test_padded = np.array(test_padded)\n",
        "test_label = np.array(y_test)\n",
        "\n",
        "#Sequential model\n",
        "model = tf.keras.Sequential([\n",
        "    tf.keras.layers.Embedding(vocab_size, embedding_dim, input_length=max_length),\n",
        "    tf.keras.layers.LSTM(64),\n",
        "    tf.keras.layers.Dense(64, activation=\"relu\"),\n",
        "    tf.keras.layers.Dropout(0.2),\n",
        "    tf.keras.layers.Dense(1, activation=\"sigmoid\")\n",
        "])\n",
        "\n",
        "model.compile(optimizer='adam', loss='binary_crossentropy', metrics=['accuracy'])\n",
        "\n",
        "model.fit(train_padded, train_label, epochs=10, validation_data = (test_padded, test_label))"
      ]
    },
    {
      "cell_type": "code",
      "source": [
        "#Testing with real data\n",
        "sentence = [\"jalanan rusak parah sejak tahun lalu sering terjadi keclekaan, tolong diperbaiki pak\"]\n",
        "sequence = tokenizer.texts_to_sequences(sentence)\n",
        "padded = pad_sequences(sequence, maxlen=max_length, padding=padding_type, truncating=trunc_type)\n",
        "\n",
        "predict = model.predict(padded)\n",
        "predict_value = predict[0][0]\n",
        "\n",
        "#Urgency Percentage\n",
        "print(f\"Percentage: {predict_value * 100:.1f}%\")\n",
        "\n",
        "#Urgency Value\n",
        "if predict_value > 0.5:\n",
        "    print(\"Urgency = Urgent\")\n",
        "else:\n",
        "    print(\"Urgency = Not Urgent\")\n"
      ],
      "metadata": {
        "id": "cii5KC0PJi94",
        "colab": {
          "base_uri": "https://localhost:8080/"
        },
        "outputId": "cdd14fa6-9add-48c1-8a11-535a301a0baf"
      },
      "execution_count": 19,
      "outputs": [
        {
          "output_type": "stream",
          "name": "stdout",
          "text": [
            "1/1 [==============================] - 0s 23ms/step\n",
            "Percentage: 77.5%\n",
            "Urgency = Urgent\n"
          ]
        }
      ]
    },
    {
      "cell_type": "code",
      "source": [
        "#Save model h5\n",
        "model.save('new_model77.h5')\n",
        "\n",
        "#Download file h5\n",
        "files.download('new_model77.h5')"
      ],
      "metadata": {
        "colab": {
          "base_uri": "https://localhost:8080/",
          "height": 72
        },
        "id": "DKYWSHu5J2aY",
        "outputId": "825e4cd2-881f-4605-c8af-0dc52be957dc"
      },
      "execution_count": 20,
      "outputs": [
        {
          "output_type": "stream",
          "name": "stderr",
          "text": [
            "/usr/local/lib/python3.10/dist-packages/keras/src/engine/training.py:3079: UserWarning: You are saving your model as an HDF5 file via `model.save()`. This file format is considered legacy. We recommend using instead the native Keras format, e.g. `model.save('my_model.keras')`.\n",
            "  saving_api.save_model(\n"
          ]
        },
        {
          "output_type": "display_data",
          "data": {
            "text/plain": [
              "<IPython.core.display.Javascript object>"
            ],
            "application/javascript": [
              "\n",
              "    async function download(id, filename, size) {\n",
              "      if (!google.colab.kernel.accessAllowed) {\n",
              "        return;\n",
              "      }\n",
              "      const div = document.createElement('div');\n",
              "      const label = document.createElement('label');\n",
              "      label.textContent = `Downloading \"${filename}\": `;\n",
              "      div.appendChild(label);\n",
              "      const progress = document.createElement('progress');\n",
              "      progress.max = size;\n",
              "      div.appendChild(progress);\n",
              "      document.body.appendChild(div);\n",
              "\n",
              "      const buffers = [];\n",
              "      let downloaded = 0;\n",
              "\n",
              "      const channel = await google.colab.kernel.comms.open(id);\n",
              "      // Send a message to notify the kernel that we're ready.\n",
              "      channel.send({})\n",
              "\n",
              "      for await (const message of channel.messages) {\n",
              "        // Send a message to notify the kernel that we're ready.\n",
              "        channel.send({})\n",
              "        if (message.buffers) {\n",
              "          for (const buffer of message.buffers) {\n",
              "            buffers.push(buffer);\n",
              "            downloaded += buffer.byteLength;\n",
              "            progress.value = downloaded;\n",
              "          }\n",
              "        }\n",
              "      }\n",
              "      const blob = new Blob(buffers, {type: 'application/binary'});\n",
              "      const a = document.createElement('a');\n",
              "      a.href = window.URL.createObjectURL(blob);\n",
              "      a.download = filename;\n",
              "      div.appendChild(a);\n",
              "      a.click();\n",
              "      div.remove();\n",
              "    }\n",
              "  "
            ]
          },
          "metadata": {}
        },
        {
          "output_type": "display_data",
          "data": {
            "text/plain": [
              "<IPython.core.display.Javascript object>"
            ],
            "application/javascript": [
              "download(\"download_3a6eecd4-85ae-450c-ab6c-c121084e305d\", \"new_model77.h5\", 877000)"
            ]
          },
          "metadata": {}
        }
      ]
    }
  ]
}